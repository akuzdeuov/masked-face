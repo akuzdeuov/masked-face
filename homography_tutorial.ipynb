{
 "cells": [
  {
   "cell_type": "code",
   "execution_count": 1,
   "metadata": {},
   "outputs": [],
   "source": [
    "# load the necessary libraries\n",
    "import cv2\n",
    "import numpy as np"
   ]
  },
  {
   "cell_type": "code",
   "execution_count": 2,
   "metadata": {},
   "outputs": [],
   "source": [
    "# load the source image\n",
    "source_image = cv2.imread('blue_mask.png')\n",
    "\n",
    "# show the source images\n",
    "cv2.imshow(\"Source image\", source_image)\n",
    "cv2.waitKey(0)\n",
    "cv2.destroyAllWindows()"
   ]
  },
  {
   "cell_type": "code",
   "execution_count": 3,
   "metadata": {},
   "outputs": [],
   "source": [
    "# load the target image\n",
    "target_image = cv2.imread('dataset/example_5.jpg')\n",
    "\n",
    "# show the target images\n",
    "cv2.imshow(\"Target image\", target_image)\n",
    "cv2.waitKey(0)\n",
    "cv2.destroyAllWindows()"
   ]
  },
  {
   "cell_type": "code",
   "execution_count": 4,
   "metadata": {},
   "outputs": [],
   "source": [
    "# define coordinates of the points in the source image \n",
    "pts_src = np.array([[0, 0], [118, 0], [236, 0], [236, 187], [118, 187], [0, 187]])\n",
    "\n",
    "# define coordinates of the points in the target image \n",
    "pts_dst = np.array([[136, 160], [214, 164], [289, 143], [289, 271], [224, 271], [143, 271]])"
   ]
  },
  {
   "cell_type": "code",
   "execution_count": 5,
   "metadata": {},
   "outputs": [],
   "source": [
    "# make copies of the original images\n",
    "source_image_copy = source_image.copy()\n",
    "target_image_copy = target_image.copy()\n",
    "\n",
    "# draw point correspondences\n",
    "for p_s, p_t in zip(pts_src, pts_dst):\n",
    "    (x_s, y_s) = p_s\n",
    "    (x_t, y_t) = p_t\n",
    "    cv2.circle(source_image_copy, (x_s, y_s), 4, (0, 0, 255), -1)\n",
    "    cv2.circle(target_image_copy, (x_t, y_t), 4, (0, 255, 0), -1)"
   ]
  },
  {
   "cell_type": "code",
   "execution_count": 6,
   "metadata": {},
   "outputs": [],
   "source": [
    "# show the images\n",
    "cv2.imshow(\"Source points\", source_image_copy)\n",
    "cv2.imshow(\"Target points\", target_image_copy)\n",
    "cv2.waitKey(0)\n",
    "cv2.destroyAllWindows()"
   ]
  },
  {
   "cell_type": "code",
   "execution_count": 7,
   "metadata": {},
   "outputs": [
    {
     "data": {
      "text/plain": [
       "array([[ 5.82797874e-01,  9.36209607e-02,  1.37065414e+02],\n",
       "       [-8.57358095e-02,  6.79190501e-01,  1.61625889e+02],\n",
       "       [-2.29797190e-04,  2.91428448e-04,  1.00000000e+00]])"
      ]
     },
     "execution_count": 7,
     "metadata": {},
     "output_type": "execute_result"
    }
   ],
   "source": [
    "# estimate the homography matrix\n",
    "(H, status) = cv2.findHomography(pts_src, pts_dst)\n",
    "H"
   ]
  },
  {
   "cell_type": "code",
   "execution_count": 8,
   "metadata": {},
   "outputs": [],
   "source": [
    "# get the height and the width of the target image\n",
    "(h_t, w_t) = target_image.shape[:2]\n",
    "\n",
    "# warp the source image\n",
    "warped_source_image = cv2.warpPerspective(source_image, H, (w_t, h_t),\n",
    "                                  flags=cv2.INTER_LINEAR)"
   ]
  },
  {
   "cell_type": "code",
   "execution_count": 9,
   "metadata": {},
   "outputs": [],
   "source": [
    "# show the warped source image and target image\n",
    "cv2.imshow(\"Warped - Target\", np.hstack([warped_source_image, \n",
    "                                         target_image]))\n",
    "cv2.waitKey(0)\n",
    "cv2.destroyAllWindows()"
   ]
  },
  {
   "cell_type": "code",
   "execution_count": 10,
   "metadata": {},
   "outputs": [],
   "source": [
    "# convert the warped image to uint8\n",
    "warped_source_image = warped_source_image.astype(np.uint8)\n",
    "\n",
    "# grab indexes for pixel values \n",
    "# greater than zero (not black)\n",
    "imask = warped_source_image > 0\n",
    "\n",
    "# \"wear\" the mask onto the face\n",
    "target_image[imask] = warped_source_image[imask]"
   ]
  },
  {
   "cell_type": "code",
   "execution_count": 11,
   "metadata": {},
   "outputs": [],
   "source": [
    "cv2.imshow(\"Warped - Target - Output\", np.hstack([warped_source_image, \n",
    "                                                target_image_copy, \n",
    "                                                target_image]))\n",
    "cv2.waitKey(0)\n",
    "cv2.destroyAllWindows()"
   ]
  },
  {
   "cell_type": "code",
   "execution_count": null,
   "metadata": {},
   "outputs": [],
   "source": []
  }
 ],
 "metadata": {
  "kernelspec": {
   "display_name": "Python 3",
   "language": "python",
   "name": "python3"
  },
  "language_info": {
   "codemirror_mode": {
    "name": "ipython",
    "version": 3
   },
   "file_extension": ".py",
   "mimetype": "text/x-python",
   "name": "python",
   "nbconvert_exporter": "python",
   "pygments_lexer": "ipython3",
   "version": "3.5.2"
  }
 },
 "nbformat": 4,
 "nbformat_minor": 4
}
